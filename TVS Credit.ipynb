{
 "cells": [
  {
   "cell_type": "markdown",
   "id": "60d76bb2",
   "metadata": {},
   "source": [
    "## Please follow the below structure while attempting the hackathon, make sure to submit the jupyter file as well for every submission you are making.\n",
    "\n",
    "## Please answer the descriptive question in the Jupyter Notebook Itself. This is going to carry more weightage in the final evaluation."
   ]
  },
  {
   "cell_type": "markdown",
   "id": "15026c5a",
   "metadata": {},
   "source": [
    "## Importing Necessary Libraries"
   ]
  },
  {
   "cell_type": "code",
   "execution_count": 945,
   "id": "9c51994a",
   "metadata": {},
   "outputs": [],
   "source": [
    "import numpy as np\n",
    "import pandas as pd\n",
    "import matplotlib.pyplot as plt\n",
    "import seaborn as sns\n",
    "import warnings\n",
    "warnings.filterwarnings('ignore')"
   ]
  },
  {
   "cell_type": "code",
   "execution_count": 946,
   "id": "ab063a56",
   "metadata": {},
   "outputs": [
    {
     "data": {
      "text/plain": [
       "((132440, 33), (56760, 32))"
      ]
     },
     "execution_count": 946,
     "metadata": {},
     "output_type": "execute_result"
    }
   ],
   "source": [
    "train=pd.read_csv('Train_Set_TVS.csv')\n",
    "test=pd.read_csv('Test_Set_TVS.csv')\n",
    "train.shape,test.shape"
   ]
  },
  {
   "cell_type": "code",
   "execution_count": 947,
   "id": "316d229a",
   "metadata": {},
   "outputs": [],
   "source": [
    "combined=pd.concat([train,test],ignore_index=True)"
   ]
  },
  {
   "cell_type": "code",
   "execution_count": 948,
   "id": "d7384765",
   "metadata": {},
   "outputs": [
    {
     "data": {
      "text/plain": [
       "(189200, 33)"
      ]
     },
     "execution_count": 948,
     "metadata": {},
     "output_type": "execute_result"
    }
   ],
   "source": [
    "combined.shape"
   ]
  },
  {
   "cell_type": "markdown",
   "id": "48d76054",
   "metadata": {},
   "source": [
    "## 1 Data Cleaning"
   ]
  },
  {
   "cell_type": "markdown",
   "id": "aa07476f",
   "metadata": {},
   "source": [
    "In this section you can do all the Data cleaning part of all necessary imputations and treatments\n",
    "\n",
    "\n",
    "\n",
    "\n",
    "\n",
    "\n",
    "\n",
    "\n",
    "\n",
    "\n",
    "\n",
    "\n",
    "\n",
    "\n",
    "\n",
    "\n",
    "\n",
    "\n",
    "\n",
    "\n",
    "\n"
   ]
  },
  {
   "cell_type": "code",
   "execution_count": 949,
   "id": "c9cabe90",
   "metadata": {},
   "outputs": [
    {
     "data": {
      "text/plain": [
       "Compensation        8992\n",
       "Vehicle_Status     12987\n",
       "Annuity_amt         6574\n",
       "density_Ind         7691\n",
       "Job_Type           14568\n",
       "Prop_List           2876\n",
       "Home_Appliances    15723\n",
       "Credit_Inq          3856\n",
       "Experience         31196\n",
       "Income_Alt         10981\n",
       "Company_Rating     16784\n",
       "c1_rated           24876\n",
       "c2_rated           18976\n",
       "Contact_age        11675\n",
       "Default            56760\n",
       "dtype: int64"
      ]
     },
     "execution_count": 949,
     "metadata": {},
     "output_type": "execute_result"
    }
   ],
   "source": [
    "combined.isnull().sum()[combined.isnull().sum()!=0]"
   ]
  },
  {
   "cell_type": "code",
   "execution_count": 950,
   "id": "8ac16cc0",
   "metadata": {},
   "outputs": [],
   "source": [
    "### Company_Rating"
   ]
  },
  {
   "cell_type": "code",
   "execution_count": 951,
   "id": "53c02904",
   "metadata": {},
   "outputs": [
    {
     "data": {
      "text/plain": [
       "Region_Type  Region   Company_Rating\n",
       "Metro        Central  1.0                3105\n",
       "                      2.0               20772\n",
       "                      3.0                4383\n",
       "             East     1.0                3942\n",
       "                      2.0               22516\n",
       "                      3.0                4142\n",
       "             North    1.0                7179\n",
       "                      2.0               40893\n",
       "                      3.0                7920\n",
       "             South    1.0                2097\n",
       "                      2.0               19077\n",
       "                      3.0                3804\n",
       "Rural        Central  1.0                 558\n",
       "                      2.0                4661\n",
       "                      3.0                 818\n",
       "             East     1.0                 607\n",
       "                      2.0                4761\n",
       "                      3.0                 842\n",
       "             North    1.0                1182\n",
       "                      2.0                9062\n",
       "                      3.0                1552\n",
       "             South    1.0                 352\n",
       "                      2.0                4048\n",
       "                      3.0                 648\n",
       "other        Central  1.0                  92\n",
       "                      2.0                 554\n",
       "                      3.0                 105\n",
       "             East     1.0                  98\n",
       "                      2.0                 516\n",
       "                      3.0                  78\n",
       "             North    1.0                 153\n",
       "                      2.0                1151\n",
       "                      3.0                 204\n",
       "             South    1.0                  42\n",
       "                      2.0                 430\n",
       "                      3.0                  72\n",
       "Name: ID, dtype: int64"
      ]
     },
     "execution_count": 951,
     "metadata": {},
     "output_type": "execute_result"
    }
   ],
   "source": [
    "combined.groupby(['Region_Type','Region','Company_Rating']).count()['ID']"
   ]
  },
  {
   "cell_type": "code",
   "execution_count": 952,
   "id": "c5b96b21",
   "metadata": {},
   "outputs": [],
   "source": [
    "combined['Company_Rating']=combined['Company_Rating'].fillna(2)"
   ]
  },
  {
   "cell_type": "code",
   "execution_count": 953,
   "id": "e5b3d8fa",
   "metadata": {},
   "outputs": [],
   "source": [
    "#As we can see that most companies have a rating of 2 in each region and the regionType thus we can replace the null values with 2."
   ]
  },
  {
   "cell_type": "code",
   "execution_count": 954,
   "id": "26f302ba",
   "metadata": {},
   "outputs": [],
   "source": [
    "### Job_Type"
   ]
  },
  {
   "cell_type": "code",
   "execution_count": 955,
   "id": "7e3c5331",
   "metadata": {},
   "outputs": [
    {
     "data": {
      "text/plain": [
       "Company_Rating  Job_Type\n",
       "1.0             Govt.        3738\n",
       "                IT           9197\n",
       "                Non-IT       5014\n",
       "2.0             Govt.       28186\n",
       "                IT          73815\n",
       "                Non-IT      32000\n",
       "3.0             Govt.        4806\n",
       "                IT          12762\n",
       "                Non-IT       5114\n",
       "Name: ID, dtype: int64"
      ]
     },
     "execution_count": 955,
     "metadata": {},
     "output_type": "execute_result"
    }
   ],
   "source": [
    "combined.groupby(['Company_Rating','Job_Type']).count()['ID']"
   ]
  },
  {
   "cell_type": "code",
   "execution_count": 956,
   "id": "9363b915",
   "metadata": {},
   "outputs": [],
   "source": [
    "combined['Job_Type']=combined['Job_Type'].fillna('IT')"
   ]
  },
  {
   "cell_type": "code",
   "execution_count": 957,
   "id": "eb11f030",
   "metadata": {},
   "outputs": [],
   "source": [
    "# The mode of job type in all the Company is IT."
   ]
  },
  {
   "cell_type": "code",
   "execution_count": 958,
   "id": "88d8e9a7",
   "metadata": {},
   "outputs": [],
   "source": [
    "### Prop_List"
   ]
  },
  {
   "cell_type": "code",
   "execution_count": 959,
   "id": "0ecde4d1",
   "metadata": {},
   "outputs": [
    {
     "data": {
      "text/plain": [
       "0    One\n",
       "dtype: object"
      ]
     },
     "execution_count": 959,
     "metadata": {},
     "output_type": "execute_result"
    }
   ],
   "source": [
    "combined['Prop_List'].mode()"
   ]
  },
  {
   "cell_type": "code",
   "execution_count": 960,
   "id": "d9c0af12",
   "metadata": {},
   "outputs": [
    {
     "data": {
      "text/html": [
       "<div>\n",
       "<style scoped>\n",
       "    .dataframe tbody tr th:only-of-type {\n",
       "        vertical-align: middle;\n",
       "    }\n",
       "\n",
       "    .dataframe tbody tr th {\n",
       "        vertical-align: top;\n",
       "    }\n",
       "\n",
       "    .dataframe thead th {\n",
       "        text-align: right;\n",
       "    }\n",
       "</style>\n",
       "<table border=\"1\" class=\"dataframe\">\n",
       "  <thead>\n",
       "    <tr style=\"text-align: right;\">\n",
       "      <th>Region</th>\n",
       "      <th>Central</th>\n",
       "      <th>East</th>\n",
       "      <th>North</th>\n",
       "      <th>South</th>\n",
       "    </tr>\n",
       "    <tr>\n",
       "      <th>Prop_List</th>\n",
       "      <th></th>\n",
       "      <th></th>\n",
       "      <th></th>\n",
       "      <th></th>\n",
       "    </tr>\n",
       "  </thead>\n",
       "  <tbody>\n",
       "    <tr>\n",
       "      <th>Morethan_One</th>\n",
       "      <td>8617</td>\n",
       "      <td>9607</td>\n",
       "      <td>11053</td>\n",
       "      <td>7665</td>\n",
       "    </tr>\n",
       "    <tr>\n",
       "      <th>None</th>\n",
       "      <td>4902</td>\n",
       "      <td>4797</td>\n",
       "      <td>4971</td>\n",
       "      <td>3931</td>\n",
       "    </tr>\n",
       "    <tr>\n",
       "      <th>One</th>\n",
       "      <td>24393</td>\n",
       "      <td>26144</td>\n",
       "      <td>58768</td>\n",
       "      <td>21476</td>\n",
       "    </tr>\n",
       "  </tbody>\n",
       "</table>\n",
       "</div>"
      ],
      "text/plain": [
       "Region        Central   East  North  South\n",
       "Prop_List                                 \n",
       "Morethan_One     8617   9607  11053   7665\n",
       "None             4902   4797   4971   3931\n",
       "One             24393  26144  58768  21476"
      ]
     },
     "execution_count": 960,
     "metadata": {},
     "output_type": "execute_result"
    }
   ],
   "source": [
    "pd.crosstab(combined['Prop_List'],combined['Region'])"
   ]
  },
  {
   "cell_type": "code",
   "execution_count": 961,
   "id": "0c7c0758",
   "metadata": {},
   "outputs": [],
   "source": [
    "combined['Prop_List']=combined['Prop_List'].replace([np.nan],[combined['Prop_List'].mode()])"
   ]
  },
  {
   "cell_type": "code",
   "execution_count": 962,
   "id": "0e9a54bf",
   "metadata": {},
   "outputs": [],
   "source": [
    "# Irrespective of the region most people owe 1 property"
   ]
  },
  {
   "cell_type": "code",
   "execution_count": 963,
   "id": "db3c1136",
   "metadata": {},
   "outputs": [],
   "source": [
    "### Home_Appliance"
   ]
  },
  {
   "cell_type": "code",
   "execution_count": 964,
   "id": "4970e93f",
   "metadata": {},
   "outputs": [
    {
     "data": {
      "text/html": [
       "<div>\n",
       "<style scoped>\n",
       "    .dataframe tbody tr th:only-of-type {\n",
       "        vertical-align: middle;\n",
       "    }\n",
       "\n",
       "    .dataframe tbody tr th {\n",
       "        vertical-align: top;\n",
       "    }\n",
       "\n",
       "    .dataframe thead th {\n",
       "        text-align: right;\n",
       "    }\n",
       "</style>\n",
       "<table border=\"1\" class=\"dataframe\">\n",
       "  <thead>\n",
       "    <tr style=\"text-align: right;\">\n",
       "      <th>Home_Appliances</th>\n",
       "      <th>1.0</th>\n",
       "      <th>2.0</th>\n",
       "      <th>3.0</th>\n",
       "      <th>4.0</th>\n",
       "      <th>5.0</th>\n",
       "      <th>6.0</th>\n",
       "      <th>7.0</th>\n",
       "      <th>8.0</th>\n",
       "      <th>9.0</th>\n",
       "      <th>10.0</th>\n",
       "      <th>12.0</th>\n",
       "      <th>14.0</th>\n",
       "      <th>19.0</th>\n",
       "    </tr>\n",
       "    <tr>\n",
       "      <th>Prop_List</th>\n",
       "      <th></th>\n",
       "      <th></th>\n",
       "      <th></th>\n",
       "      <th></th>\n",
       "      <th></th>\n",
       "      <th></th>\n",
       "      <th></th>\n",
       "      <th></th>\n",
       "      <th></th>\n",
       "      <th></th>\n",
       "      <th></th>\n",
       "      <th></th>\n",
       "      <th></th>\n",
       "    </tr>\n",
       "  </thead>\n",
       "  <tbody>\n",
       "    <tr>\n",
       "      <th>Morethan_One</th>\n",
       "      <td>33774</td>\n",
       "      <td>0</td>\n",
       "      <td>0</td>\n",
       "      <td>0</td>\n",
       "      <td>42</td>\n",
       "      <td>17</td>\n",
       "      <td>3</td>\n",
       "      <td>2</td>\n",
       "      <td>1</td>\n",
       "      <td>3</td>\n",
       "      <td>2</td>\n",
       "      <td>3</td>\n",
       "      <td>2</td>\n",
       "    </tr>\n",
       "    <tr>\n",
       "      <th>None</th>\n",
       "      <td>0</td>\n",
       "      <td>14878</td>\n",
       "      <td>2141</td>\n",
       "      <td>0</td>\n",
       "      <td>0</td>\n",
       "      <td>0</td>\n",
       "      <td>0</td>\n",
       "      <td>0</td>\n",
       "      <td>0</td>\n",
       "      <td>0</td>\n",
       "      <td>0</td>\n",
       "      <td>0</td>\n",
       "      <td>0</td>\n",
       "    </tr>\n",
       "    <tr>\n",
       "      <th>One</th>\n",
       "      <td>550</td>\n",
       "      <td>230</td>\n",
       "      <td>32</td>\n",
       "      <td>121796</td>\n",
       "      <td>1</td>\n",
       "      <td>0</td>\n",
       "      <td>0</td>\n",
       "      <td>0</td>\n",
       "      <td>0</td>\n",
       "      <td>0</td>\n",
       "      <td>0</td>\n",
       "      <td>0</td>\n",
       "      <td>0</td>\n",
       "    </tr>\n",
       "  </tbody>\n",
       "</table>\n",
       "</div>"
      ],
      "text/plain": [
       "Home_Appliances   1.0    2.0   3.0     4.0   5.0   6.0   7.0   8.0   9.0   \\\n",
       "Prop_List                                                                   \n",
       "Morethan_One     33774      0     0       0    42    17     3     2     1   \n",
       "None                 0  14878  2141       0     0     0     0     0     0   \n",
       "One                550    230    32  121796     1     0     0     0     0   \n",
       "\n",
       "Home_Appliances  10.0  12.0  14.0  19.0  \n",
       "Prop_List                                \n",
       "Morethan_One        3     2     3     2  \n",
       "None                0     0     0     0  \n",
       "One                 0     0     0     0  "
      ]
     },
     "execution_count": 964,
     "metadata": {},
     "output_type": "execute_result"
    }
   ],
   "source": [
    "pd.crosstab(combined['Prop_List'],combined['Home_Appliances'])"
   ]
  },
  {
   "cell_type": "code",
   "execution_count": 965,
   "id": "b8ed221d",
   "metadata": {},
   "outputs": [
    {
     "data": {
      "text/html": [
       "<div>\n",
       "<style scoped>\n",
       "    .dataframe tbody tr th:only-of-type {\n",
       "        vertical-align: middle;\n",
       "    }\n",
       "\n",
       "    .dataframe tbody tr th {\n",
       "        vertical-align: top;\n",
       "    }\n",
       "\n",
       "    .dataframe thead th {\n",
       "        text-align: right;\n",
       "    }\n",
       "</style>\n",
       "<table border=\"1\" class=\"dataframe\">\n",
       "  <thead>\n",
       "    <tr style=\"text-align: right;\">\n",
       "      <th>Prop_List</th>\n",
       "      <th>Morethan_One</th>\n",
       "      <th>None</th>\n",
       "      <th>One</th>\n",
       "    </tr>\n",
       "    <tr>\n",
       "      <th>Addr_permanent</th>\n",
       "      <th></th>\n",
       "      <th></th>\n",
       "      <th></th>\n",
       "    </tr>\n",
       "  </thead>\n",
       "  <tbody>\n",
       "    <tr>\n",
       "      <th>No</th>\n",
       "      <td>1.0</td>\n",
       "      <td>2.0</td>\n",
       "      <td>4.0</td>\n",
       "    </tr>\n",
       "    <tr>\n",
       "      <th>Yes</th>\n",
       "      <td>1.0</td>\n",
       "      <td>2.0</td>\n",
       "      <td>4.0</td>\n",
       "    </tr>\n",
       "  </tbody>\n",
       "</table>\n",
       "</div>"
      ],
      "text/plain": [
       "Prop_List       Morethan_One  None  One\n",
       "Addr_permanent                         \n",
       "No                       1.0   2.0  4.0\n",
       "Yes                      1.0   2.0  4.0"
      ]
     },
     "execution_count": 965,
     "metadata": {},
     "output_type": "execute_result"
    }
   ],
   "source": [
    "combined.pivot_table(index='Addr_permanent',columns='Prop_List',values='Home_Appliances',aggfunc='median')"
   ]
  },
  {
   "cell_type": "code",
   "execution_count": 966,
   "id": "01e6fd86",
   "metadata": {},
   "outputs": [],
   "source": [
    "a=combined[(combined['Prop_List']=='Morethan_One')&(combined['Home_Appliances'].isnull())].index\n",
    "b=combined[(combined['Prop_List']=='None')&(combined['Home_Appliances'].isnull())].index\n",
    "c=combined[(combined['Prop_List']=='One')&(combined['Home_Appliances'].isnull())].index"
   ]
  },
  {
   "cell_type": "code",
   "execution_count": 967,
   "id": "7975072c",
   "metadata": {},
   "outputs": [],
   "source": [
    "combined.loc[a,'Home_Appliances']=1.0\n",
    "combined.loc[b,'Home_Appliances']=2.0\n",
    "combined.loc[c,'Home_Appliances']=4.0"
   ]
  },
  {
   "cell_type": "markdown",
   "id": "127d6e17",
   "metadata": {},
   "source": [
    "* As we can see that irrespective of them having a permanent address customer with more than 1 property have 1 home appliance ,customer with none have 2 and customer with 1 property have 4 median appliances."
   ]
  },
  {
   "cell_type": "code",
   "execution_count": 968,
   "id": "426826d6",
   "metadata": {},
   "outputs": [],
   "source": [
    "### Compensation"
   ]
  },
  {
   "cell_type": "code",
   "execution_count": 969,
   "id": "6f27276e",
   "metadata": {},
   "outputs": [
    {
     "data": {
      "text/plain": [
       "Company_Rating  Job_Type\n",
       "1.0             Govt.       875211.0\n",
       "                IT          867884.0\n",
       "                Non-IT      997023.0\n",
       "2.0             Govt.       622635.0\n",
       "                IT          637840.0\n",
       "                Non-IT      721350.0\n",
       "3.0             Govt.       587930.0\n",
       "                IT          601033.0\n",
       "                Non-IT      679792.0\n",
       "Name: Compensation, dtype: float64"
      ]
     },
     "execution_count": 969,
     "metadata": {},
     "output_type": "execute_result"
    }
   ],
   "source": [
    "combined.groupby(['Company_Rating','Job_Type']).median()['Compensation']"
   ]
  },
  {
   "cell_type": "code",
   "execution_count": 970,
   "id": "069619d4",
   "metadata": {},
   "outputs": [],
   "source": [
    "a=list(combined[(combined['Company_Rating']==1)&(combined['Job_Type']=='Govt.')&(combined['Compensation'].isnull())].index)\n",
    "b=list(combined[(combined['Company_Rating']==2)&(combined['Job_Type']=='Govt.')&(combined['Compensation'].isnull())].index)\n",
    "c=list(combined[(combined['Company_Rating']==3)&(combined['Job_Type']=='Govt.')&(combined['Compensation'].isnull())].index)\n",
    "d=list(combined[(combined['Company_Rating']==1)&(combined['Job_Type']=='IT')&(combined['Compensation'].isnull())].index)\n",
    "e=list(combined[(combined['Company_Rating']==2)&(combined['Job_Type']=='IT')&(combined['Compensation'].isnull())].index)\n",
    "f=list(combined[(combined['Company_Rating']==3)&(combined['Job_Type']=='IT')&(combined['Compensation'].isnull())].index)\n",
    "g=list(combined[(combined['Company_Rating']==1)&(combined['Job_Type']=='Non-IT')&(combined['Compensation'].isnull())].index)\n",
    "h=list(combined[(combined['Company_Rating']==2)&(combined['Job_Type']=='Non-IT')&(combined['Compensation'].isnull())].index)\n",
    "i=list(combined[(combined['Company_Rating']==3)&(combined['Job_Type']=='Non-IT')&(combined['Compensation'].isnull())].index)\n"
   ]
  },
  {
   "cell_type": "code",
   "execution_count": 971,
   "id": "55667f98",
   "metadata": {},
   "outputs": [],
   "source": [
    "combined.loc[a,'Compensation']=875211.0\n",
    "combined.loc[b,'Compensation']=622635.0\n",
    "combined.loc[c,'Compensation']=587930.0\n",
    "combined.loc[d,'Compensation']=867884.0\n",
    "combined.loc[e,'Compensation']=637840.0\n",
    "combined.loc[f,'Compensation']=601033.0\n",
    "combined.loc[g,'Compensation']=997023.0\n",
    "combined.loc[h,'Compensation']=721350.0\n",
    "combined.loc[i,'Compensation']=679792.0"
   ]
  },
  {
   "cell_type": "code",
   "execution_count": 972,
   "id": "25c33683",
   "metadata": {},
   "outputs": [],
   "source": [
    "### Credit_Inq,c1_rated,c2_rated"
   ]
  },
  {
   "cell_type": "code",
   "execution_count": 973,
   "id": "c2e15c6d",
   "metadata": {},
   "outputs": [
    {
     "data": {
      "text/plain": [
       "0    1\n",
       "dtype: object"
      ]
     },
     "execution_count": 973,
     "metadata": {},
     "output_type": "execute_result"
    }
   ],
   "source": [
    "combined['Credit_Inq'].mode()"
   ]
  },
  {
   "cell_type": "code",
   "execution_count": 974,
   "id": "ac738c63",
   "metadata": {},
   "outputs": [],
   "source": [
    "combined['Credit_Inq']=combined['Credit_Inq'].fillna('1')"
   ]
  },
  {
   "cell_type": "code",
   "execution_count": 975,
   "id": "282f48fd",
   "metadata": {},
   "outputs": [
    {
     "data": {
      "text/html": [
       "<div>\n",
       "<style scoped>\n",
       "    .dataframe tbody tr th:only-of-type {\n",
       "        vertical-align: middle;\n",
       "    }\n",
       "\n",
       "    .dataframe tbody tr th {\n",
       "        vertical-align: top;\n",
       "    }\n",
       "\n",
       "    .dataframe thead th {\n",
       "        text-align: right;\n",
       "    }\n",
       "</style>\n",
       "<table border=\"1\" class=\"dataframe\">\n",
       "  <thead>\n",
       "    <tr style=\"text-align: right;\">\n",
       "      <th></th>\n",
       "      <th>c1_rated</th>\n",
       "      <th>c2_rated</th>\n",
       "    </tr>\n",
       "  </thead>\n",
       "  <tbody>\n",
       "    <tr>\n",
       "      <th>c1_rated</th>\n",
       "      <td>1.0</td>\n",
       "      <td>1.0</td>\n",
       "    </tr>\n",
       "    <tr>\n",
       "      <th>c2_rated</th>\n",
       "      <td>1.0</td>\n",
       "      <td>1.0</td>\n",
       "    </tr>\n",
       "  </tbody>\n",
       "</table>\n",
       "</div>"
      ],
      "text/plain": [
       "          c1_rated  c2_rated\n",
       "c1_rated       1.0       1.0\n",
       "c2_rated       1.0       1.0"
      ]
     },
     "execution_count": 975,
     "metadata": {},
     "output_type": "execute_result"
    }
   ],
   "source": [
    "combined[['c1_rated','c2_rated']].corr()"
   ]
  },
  {
   "cell_type": "code",
   "execution_count": 976,
   "id": "0732b970",
   "metadata": {},
   "outputs": [
    {
     "data": {
      "text/html": [
       "<div>\n",
       "<style scoped>\n",
       "    .dataframe tbody tr th:only-of-type {\n",
       "        vertical-align: middle;\n",
       "    }\n",
       "\n",
       "    .dataframe tbody tr th {\n",
       "        vertical-align: top;\n",
       "    }\n",
       "\n",
       "    .dataframe thead th {\n",
       "        text-align: right;\n",
       "    }\n",
       "</style>\n",
       "<table border=\"1\" class=\"dataframe\">\n",
       "  <thead>\n",
       "    <tr style=\"text-align: right;\">\n",
       "      <th></th>\n",
       "      <th>ID</th>\n",
       "      <th>Compensation</th>\n",
       "      <th>Vehicle_Status</th>\n",
       "      <th>Loan_amt</th>\n",
       "      <th>Annuity_amt</th>\n",
       "      <th>density_Ind</th>\n",
       "      <th>Job_Type</th>\n",
       "      <th>Default_hist</th>\n",
       "      <th>Prop_List</th>\n",
       "      <th>Home_Appliances</th>\n",
       "      <th>...</th>\n",
       "      <th>Region</th>\n",
       "      <th>Age</th>\n",
       "      <th>hour_Process</th>\n",
       "      <th>Addr_permanent</th>\n",
       "      <th>Permanent_Addr_tag</th>\n",
       "      <th>c1_rated</th>\n",
       "      <th>c2_rated</th>\n",
       "      <th>Contact_age</th>\n",
       "      <th>Product_bought</th>\n",
       "      <th>Default</th>\n",
       "    </tr>\n",
       "  </thead>\n",
       "  <tbody>\n",
       "  </tbody>\n",
       "</table>\n",
       "<p>0 rows × 33 columns</p>\n",
       "</div>"
      ],
      "text/plain": [
       "Empty DataFrame\n",
       "Columns: [ID, Compensation, Vehicle_Status, Loan_amt, Annuity_amt, density_Ind, Job_Type, Default_hist, Prop_List, Home_Appliances, Region_Type, Credit_Inq, Education_det, Marital_Stat, Gen, Credit_Lnks, Experience, Income_Alt, Day_Process, Ph.No, Type_Loan, Dependents, Company_Rating, Region, Age, hour_Process, Addr_permanent, Permanent_Addr_tag, c1_rated, c2_rated, Contact_age, Product_bought, Default]\n",
       "Index: []\n",
       "\n",
       "[0 rows x 33 columns]"
      ]
     },
     "execution_count": 976,
     "metadata": {},
     "output_type": "execute_result"
    }
   ],
   "source": [
    "combined[(combined['c1_rated']!=combined['c2_rated'])&(~combined['c1_rated'].isnull())&(~combined['c2_rated'].isnull())]"
   ]
  },
  {
   "cell_type": "code",
   "execution_count": 977,
   "id": "0594cebe",
   "metadata": {},
   "outputs": [
    {
     "data": {
      "text/html": [
       "<div>\n",
       "<style scoped>\n",
       "    .dataframe tbody tr th:only-of-type {\n",
       "        vertical-align: middle;\n",
       "    }\n",
       "\n",
       "    .dataframe tbody tr th {\n",
       "        vertical-align: top;\n",
       "    }\n",
       "\n",
       "    .dataframe thead th {\n",
       "        text-align: right;\n",
       "    }\n",
       "</style>\n",
       "<table border=\"1\" class=\"dataframe\">\n",
       "  <thead>\n",
       "    <tr style=\"text-align: right;\">\n",
       "      <th></th>\n",
       "      <th>c1_rated</th>\n",
       "      <th>c2_rated</th>\n",
       "      <th>Credit_Inq</th>\n",
       "    </tr>\n",
       "  </thead>\n",
       "  <tbody>\n",
       "    <tr>\n",
       "      <th>0</th>\n",
       "      <td>0.077</td>\n",
       "      <td>0.077</td>\n",
       "      <td>1</td>\n",
       "    </tr>\n",
       "    <tr>\n",
       "      <th>1</th>\n",
       "      <td>0.184</td>\n",
       "      <td>0.184</td>\n",
       "      <td>2</td>\n",
       "    </tr>\n",
       "    <tr>\n",
       "      <th>2</th>\n",
       "      <td>0.538</td>\n",
       "      <td>0.538</td>\n",
       "      <td>3</td>\n",
       "    </tr>\n",
       "    <tr>\n",
       "      <th>3</th>\n",
       "      <td>NaN</td>\n",
       "      <td>0.561</td>\n",
       "      <td>1</td>\n",
       "    </tr>\n",
       "    <tr>\n",
       "      <th>4</th>\n",
       "      <td>NaN</td>\n",
       "      <td>0.200</td>\n",
       "      <td>2</td>\n",
       "    </tr>\n",
       "    <tr>\n",
       "      <th>...</th>\n",
       "      <td>...</td>\n",
       "      <td>...</td>\n",
       "      <td>...</td>\n",
       "    </tr>\n",
       "    <tr>\n",
       "      <th>189195</th>\n",
       "      <td>0.716</td>\n",
       "      <td>0.716</td>\n",
       "      <td>1</td>\n",
       "    </tr>\n",
       "    <tr>\n",
       "      <th>189196</th>\n",
       "      <td>NaN</td>\n",
       "      <td>0.193</td>\n",
       "      <td>1</td>\n",
       "    </tr>\n",
       "    <tr>\n",
       "      <th>189197</th>\n",
       "      <td>0.175</td>\n",
       "      <td>0.175</td>\n",
       "      <td>1</td>\n",
       "    </tr>\n",
       "    <tr>\n",
       "      <th>189198</th>\n",
       "      <td>0.669</td>\n",
       "      <td>0.669</td>\n",
       "      <td>2</td>\n",
       "    </tr>\n",
       "    <tr>\n",
       "      <th>189199</th>\n",
       "      <td>0.237</td>\n",
       "      <td>0.237</td>\n",
       "      <td>1</td>\n",
       "    </tr>\n",
       "  </tbody>\n",
       "</table>\n",
       "<p>189200 rows × 3 columns</p>\n",
       "</div>"
      ],
      "text/plain": [
       "        c1_rated  c2_rated Credit_Inq\n",
       "0          0.077     0.077          1\n",
       "1          0.184     0.184          2\n",
       "2          0.538     0.538          3\n",
       "3            NaN     0.561          1\n",
       "4            NaN     0.200          2\n",
       "...          ...       ...        ...\n",
       "189195     0.716     0.716          1\n",
       "189196       NaN     0.193          1\n",
       "189197     0.175     0.175          1\n",
       "189198     0.669     0.669          2\n",
       "189199     0.237     0.237          1\n",
       "\n",
       "[189200 rows x 3 columns]"
      ]
     },
     "execution_count": 977,
     "metadata": {},
     "output_type": "execute_result"
    }
   ],
   "source": [
    "combined[['c1_rated','c2_rated','Credit_Inq']]"
   ]
  },
  {
   "cell_type": "code",
   "execution_count": 978,
   "id": "8942080e",
   "metadata": {},
   "outputs": [],
   "source": [
    "a=combined[combined['c1_rated'].isnull()].index"
   ]
  },
  {
   "cell_type": "code",
   "execution_count": 979,
   "id": "d1712166",
   "metadata": {},
   "outputs": [],
   "source": [
    "combined.loc[a,'c1_rated']=combined.loc[a,'c2_rated']"
   ]
  },
  {
   "cell_type": "code",
   "execution_count": 980,
   "id": "0c2b15c6",
   "metadata": {},
   "outputs": [],
   "source": [
    "b=combined[combined['c2_rated'].isnull()].index"
   ]
  },
  {
   "cell_type": "code",
   "execution_count": 981,
   "id": "f2752161",
   "metadata": {},
   "outputs": [],
   "source": [
    "combined.loc[b,'c2_rated']=combined.loc[b,'c1_rated']"
   ]
  },
  {
   "cell_type": "code",
   "execution_count": 982,
   "id": "e1a592bc",
   "metadata": {},
   "outputs": [
    {
     "data": {
      "text/plain": [
       "Credit_Inq\n",
       "1     0.441\n",
       "2     0.441\n",
       "3     0.531\n",
       ">4    0.541\n",
       "Name: c1_rated, dtype: float64"
      ]
     },
     "execution_count": 982,
     "metadata": {},
     "output_type": "execute_result"
    }
   ],
   "source": [
    "combined.groupby(['Credit_Inq']).median()['c1_rated']"
   ]
  },
  {
   "cell_type": "code",
   "execution_count": 983,
   "id": "6917de7a",
   "metadata": {},
   "outputs": [],
   "source": [
    "a=combined[(combined['c1_rated'].isnull())&(combined['Credit_Inq'].isin(['1','2']))].index\n",
    "b=combined[(combined['c1_rated'].isnull())&(combined['Credit_Inq'].isin(['3','>4']))].index"
   ]
  },
  {
   "cell_type": "code",
   "execution_count": 984,
   "id": "5461bff8",
   "metadata": {},
   "outputs": [],
   "source": [
    "combined.loc[a,'c1_rated']=0.441\n",
    "combined.loc[b,'c1_rated']=0.541"
   ]
  },
  {
   "cell_type": "markdown",
   "id": "1a00a663",
   "metadata": {},
   "source": [
    "* There dosent seem to be any difference between c1 and c2 rated so we can conclude that all the inquiry must be soft inquiries.\n",
    "* Thus we can drop one of the columns"
   ]
  },
  {
   "cell_type": "code",
   "execution_count": 985,
   "id": "8bdc9912",
   "metadata": {},
   "outputs": [],
   "source": [
    "### Contact_Age"
   ]
  },
  {
   "cell_type": "code",
   "execution_count": 986,
   "id": "46bacc28",
   "metadata": {},
   "outputs": [
    {
     "data": {
      "text/plain": [
       "977.1631601182931"
      ]
     },
     "execution_count": 986,
     "metadata": {},
     "output_type": "execute_result"
    }
   ],
   "source": [
    "combined['Contact_age'].mean()"
   ]
  },
  {
   "cell_type": "markdown",
   "id": "db1f4287",
   "metadata": {},
   "source": [
    "* The change has been stored and the mean tie is more than a year thus the columns do not have uch significance to us."
   ]
  },
  {
   "cell_type": "code",
   "execution_count": 987,
   "id": "85e1233b",
   "metadata": {},
   "outputs": [],
   "source": [
    "### density_Ind"
   ]
  },
  {
   "cell_type": "code",
   "execution_count": 988,
   "id": "20f95241",
   "metadata": {},
   "outputs": [
    {
     "data": {
      "text/plain": [
       "0         0.0304\n",
       "1         0.0194\n",
       "2         0.0118\n",
       "3         0.0373\n",
       "4         0.0138\n",
       "           ...  \n",
       "189195    0.0050\n",
       "189196    0.0321\n",
       "189197    0.0334\n",
       "189198    0.0052\n",
       "189199    0.0155\n",
       "Name: density_Ind, Length: 189200, dtype: float64"
      ]
     },
     "execution_count": 988,
     "metadata": {},
     "output_type": "execute_result"
    }
   ],
   "source": [
    "combined['density_Ind']"
   ]
  },
  {
   "cell_type": "code",
   "execution_count": 989,
   "id": "12b4a037",
   "metadata": {},
   "outputs": [
    {
     "data": {
      "text/html": [
       "<div>\n",
       "<style scoped>\n",
       "    .dataframe tbody tr th:only-of-type {\n",
       "        vertical-align: middle;\n",
       "    }\n",
       "\n",
       "    .dataframe tbody tr th {\n",
       "        vertical-align: top;\n",
       "    }\n",
       "\n",
       "    .dataframe thead th {\n",
       "        text-align: right;\n",
       "    }\n",
       "</style>\n",
       "<table border=\"1\" class=\"dataframe\">\n",
       "  <thead>\n",
       "    <tr style=\"text-align: right;\">\n",
       "      <th>Dependents</th>\n",
       "      <th>1.0</th>\n",
       "      <th>2.0</th>\n",
       "      <th>3.0</th>\n",
       "      <th>4.0</th>\n",
       "      <th>5.0</th>\n",
       "      <th>6.0</th>\n",
       "      <th>7.0</th>\n",
       "      <th>8.0</th>\n",
       "      <th>9.0</th>\n",
       "    </tr>\n",
       "  </thead>\n",
       "  <tbody>\n",
       "    <tr>\n",
       "      <th>density_Ind</th>\n",
       "      <td>0.0203</td>\n",
       "      <td>0.0204</td>\n",
       "      <td>0.0203</td>\n",
       "      <td>0.0202</td>\n",
       "      <td>0.0207</td>\n",
       "      <td>0.01925</td>\n",
       "      <td>0.0191</td>\n",
       "      <td>0.0287</td>\n",
       "      <td>0.011</td>\n",
       "    </tr>\n",
       "  </tbody>\n",
       "</table>\n",
       "</div>"
      ],
      "text/plain": [
       "Dependents      1.0     2.0     3.0     4.0     5.0      6.0     7.0     8.0  \\\n",
       "density_Ind  0.0203  0.0204  0.0203  0.0202  0.0207  0.01925  0.0191  0.0287   \n",
       "\n",
       "Dependents     9.0  \n",
       "density_Ind  0.011  "
      ]
     },
     "execution_count": 989,
     "metadata": {},
     "output_type": "execute_result"
    }
   ],
   "source": [
    "combined.pivot_table(values='density_Ind',columns='Dependents',aggfunc='median')"
   ]
  },
  {
   "cell_type": "code",
   "execution_count": 990,
   "id": "fe436b35",
   "metadata": {},
   "outputs": [],
   "source": [
    "a=combined[(combined['Dependents'].isin([1.0,2.0,3.0,4.0,5.0]))&(combined['density_Ind'].isnull())].index\n",
    "combined.loc[a,'density_Ind']=0.0204"
   ]
  },
  {
   "cell_type": "code",
   "execution_count": 991,
   "id": "865cd90e",
   "metadata": {},
   "outputs": [],
   "source": [
    "a=combined[(combined['Dependents'].isin([6.0,7.0]))&(combined['density_Ind'].isnull())].index\n",
    "combined.loc[a,'density_Ind']=0.01925"
   ]
  },
  {
   "cell_type": "markdown",
   "id": "46d5bb25",
   "metadata": {},
   "source": [
    "* since density is inversely proportional to the no. of dependents we can use the dependent column for the null value treatment."
   ]
  },
  {
   "cell_type": "code",
   "execution_count": 992,
   "id": "44469658",
   "metadata": {},
   "outputs": [],
   "source": [
    "def a(x):\n",
    "    if (x>=21.0)&(x<35.0):\n",
    "        return 'Young'\n",
    "    if(x>=35.0)&(x<=59.0):\n",
    "        return 'Experienced'\n",
    "    if x>59.0:\n",
    "        return 'Retired'\n",
    "combined['Age_grp']=combined['Age'].apply(a)"
   ]
  },
  {
   "cell_type": "code",
   "execution_count": 993,
   "id": "37404c82",
   "metadata": {},
   "outputs": [],
   "source": [
    "### Experience"
   ]
  },
  {
   "cell_type": "code",
   "execution_count": 994,
   "id": "96b8225f",
   "metadata": {},
   "outputs": [
    {
     "data": {
      "text/html": [
       "<div>\n",
       "<style scoped>\n",
       "    .dataframe tbody tr th:only-of-type {\n",
       "        vertical-align: middle;\n",
       "    }\n",
       "\n",
       "    .dataframe tbody tr th {\n",
       "        vertical-align: top;\n",
       "    }\n",
       "\n",
       "    .dataframe thead th {\n",
       "        text-align: right;\n",
       "    }\n",
       "</style>\n",
       "<table border=\"1\" class=\"dataframe\">\n",
       "  <thead>\n",
       "    <tr style=\"text-align: right;\">\n",
       "      <th>Age_grp</th>\n",
       "      <th>Experienced</th>\n",
       "      <th>Retired</th>\n",
       "      <th>Young</th>\n",
       "    </tr>\n",
       "    <tr>\n",
       "      <th>Job_Type</th>\n",
       "      <th></th>\n",
       "      <th></th>\n",
       "      <th></th>\n",
       "    </tr>\n",
       "  </thead>\n",
       "  <tbody>\n",
       "    <tr>\n",
       "      <th>Govt.</th>\n",
       "      <td>5.5</td>\n",
       "      <td>7.8</td>\n",
       "      <td>3.3</td>\n",
       "    </tr>\n",
       "    <tr>\n",
       "      <th>IT</th>\n",
       "      <td>5.5</td>\n",
       "      <td>10.1</td>\n",
       "      <td>3.1</td>\n",
       "    </tr>\n",
       "    <tr>\n",
       "      <th>Non-IT</th>\n",
       "      <td>5.6</td>\n",
       "      <td>10.1</td>\n",
       "      <td>3.2</td>\n",
       "    </tr>\n",
       "  </tbody>\n",
       "</table>\n",
       "</div>"
      ],
      "text/plain": [
       "Age_grp   Experienced  Retired  Young\n",
       "Job_Type                             \n",
       "Govt.             5.5      7.8    3.3\n",
       "IT                5.5     10.1    3.1\n",
       "Non-IT            5.6     10.1    3.2"
      ]
     },
     "execution_count": 994,
     "metadata": {},
     "output_type": "execute_result"
    }
   ],
   "source": [
    "combined.pivot_table(values='Experience',index='Job_Type',columns='Age_grp',aggfunc='median')"
   ]
  },
  {
   "cell_type": "code",
   "execution_count": 995,
   "id": "9fa8be18",
   "metadata": {},
   "outputs": [],
   "source": [
    "a=combined[(combined['Age_grp']=='Experienced')&(combined['Experience'].isnull())].index\n",
    "combined.loc[a,'Experience']=5.5"
   ]
  },
  {
   "cell_type": "code",
   "execution_count": 996,
   "id": "333cf048",
   "metadata": {},
   "outputs": [],
   "source": [
    "a=combined[(combined['Age_grp']=='Young')&(combined['Experience'].isnull())].index\n",
    "combined.loc[a,'Experience']=3.2"
   ]
  },
  {
   "cell_type": "code",
   "execution_count": 997,
   "id": "4fd16477",
   "metadata": {},
   "outputs": [],
   "source": [
    "a=combined[(combined['Age_grp']=='Retired')&(combined['Experience'].isnull())&(combined['Job_Type']=='Govt.')].index\n",
    "combined.loc[a,'Experience']=7.8"
   ]
  },
  {
   "cell_type": "code",
   "execution_count": 998,
   "id": "bbad76b5",
   "metadata": {},
   "outputs": [],
   "source": [
    "a=combined[(combined['Age_grp']=='Retired')&(combined['Experience'].isnull())].index\n",
    "combined.loc[a,'Experience']=10.1"
   ]
  },
  {
   "cell_type": "code",
   "execution_count": 999,
   "id": "2c5dd94c",
   "metadata": {},
   "outputs": [],
   "source": [
    "### Annuity_amt"
   ]
  },
  {
   "cell_type": "code",
   "execution_count": 1000,
   "id": "3f24c303",
   "metadata": {},
   "outputs": [
    {
     "data": {
      "text/html": [
       "<div>\n",
       "<style scoped>\n",
       "    .dataframe tbody tr th:only-of-type {\n",
       "        vertical-align: middle;\n",
       "    }\n",
       "\n",
       "    .dataframe tbody tr th {\n",
       "        vertical-align: top;\n",
       "    }\n",
       "\n",
       "    .dataframe thead th {\n",
       "        text-align: right;\n",
       "    }\n",
       "</style>\n",
       "<table border=\"1\" class=\"dataframe\">\n",
       "  <thead>\n",
       "    <tr style=\"text-align: right;\">\n",
       "      <th>Age_grp</th>\n",
       "      <th>Experienced</th>\n",
       "      <th>Retired</th>\n",
       "      <th>Young</th>\n",
       "    </tr>\n",
       "  </thead>\n",
       "  <tbody>\n",
       "    <tr>\n",
       "      <th>Annuity_amt</th>\n",
       "      <td>10877.8</td>\n",
       "      <td>10460.09</td>\n",
       "      <td>10659.1</td>\n",
       "    </tr>\n",
       "  </tbody>\n",
       "</table>\n",
       "</div>"
      ],
      "text/plain": [
       "Age_grp      Experienced   Retired    Young\n",
       "Annuity_amt      10877.8  10460.09  10659.1"
      ]
     },
     "execution_count": 1000,
     "metadata": {},
     "output_type": "execute_result"
    }
   ],
   "source": [
    "combined.pivot_table(values='Annuity_amt',columns='Age_grp',aggfunc='median')"
   ]
  },
  {
   "cell_type": "code",
   "execution_count": 1001,
   "id": "1386379e",
   "metadata": {},
   "outputs": [],
   "source": [
    "a=combined[(combined['Age_grp']=='Experienced')&(combined['Annuity_amt'].isnull())].index\n",
    "b=combined[(combined['Age_grp']=='Retired')&(combined['Annuity_amt'].isnull())].index\n",
    "c=combined[(combined['Age_grp']=='Young')&(combined['Annuity_amt'].isnull())].index"
   ]
  },
  {
   "cell_type": "code",
   "execution_count": 1002,
   "id": "d590b13e",
   "metadata": {},
   "outputs": [],
   "source": [
    "combined.loc[a,'Annuity_amt']=10885.55\n",
    "combined.loc[b,'Annuity_amt']=10460.09\n",
    "combined.loc[c,'Annuity_amt']=10659.1"
   ]
  },
  {
   "cell_type": "code",
   "execution_count": 1003,
   "id": "9bb076e3",
   "metadata": {},
   "outputs": [],
   "source": [
    "### Vehicle_Status"
   ]
  },
  {
   "cell_type": "code",
   "execution_count": 1004,
   "id": "d0ab55d9",
   "metadata": {},
   "outputs": [
    {
     "data": {
      "text/html": [
       "<div>\n",
       "<style scoped>\n",
       "    .dataframe tbody tr th:only-of-type {\n",
       "        vertical-align: middle;\n",
       "    }\n",
       "\n",
       "    .dataframe tbody tr th {\n",
       "        vertical-align: top;\n",
       "    }\n",
       "\n",
       "    .dataframe thead th {\n",
       "        text-align: right;\n",
       "    }\n",
       "</style>\n",
       "<table border=\"1\" class=\"dataframe\">\n",
       "  <thead>\n",
       "    <tr style=\"text-align: right;\">\n",
       "      <th>Vehicle_Status</th>\n",
       "      <th>N</th>\n",
       "      <th>Y</th>\n",
       "    </tr>\n",
       "    <tr>\n",
       "      <th>Region_Type</th>\n",
       "      <th></th>\n",
       "      <th></th>\n",
       "    </tr>\n",
       "  </thead>\n",
       "  <tbody>\n",
       "    <tr>\n",
       "      <th>Metro</th>\n",
       "      <td>94674</td>\n",
       "      <td>48472</td>\n",
       "    </tr>\n",
       "    <tr>\n",
       "      <th>Rural</th>\n",
       "      <td>18840</td>\n",
       "      <td>10702</td>\n",
       "    </tr>\n",
       "    <tr>\n",
       "      <th>other</th>\n",
       "      <td>2577</td>\n",
       "      <td>948</td>\n",
       "    </tr>\n",
       "  </tbody>\n",
       "</table>\n",
       "</div>"
      ],
      "text/plain": [
       "Vehicle_Status      N      Y\n",
       "Region_Type                 \n",
       "Metro           94674  48472\n",
       "Rural           18840  10702\n",
       "other            2577    948"
      ]
     },
     "execution_count": 1004,
     "metadata": {},
     "output_type": "execute_result"
    }
   ],
   "source": [
    "pd.crosstab(combined['Region_Type'],combined['Vehicle_Status'])"
   ]
  },
  {
   "cell_type": "code",
   "execution_count": 1005,
   "id": "7d343dc1",
   "metadata": {},
   "outputs": [
    {
     "data": {
      "text/plain": [
       "N    116091\n",
       "Y     60122\n",
       "Name: Vehicle_Status, dtype: int64"
      ]
     },
     "execution_count": 1005,
     "metadata": {},
     "output_type": "execute_result"
    }
   ],
   "source": [
    "combined['Vehicle_Status'].value_counts()"
   ]
  },
  {
   "cell_type": "code",
   "execution_count": 1006,
   "id": "21ff37f2",
   "metadata": {},
   "outputs": [],
   "source": [
    "combined['Vehicle_Status']=combined['Vehicle_Status'].fillna('N')"
   ]
  },
  {
   "cell_type": "markdown",
   "id": "96238895",
   "metadata": {},
   "source": [
    "* Vehicle status has no absolute relation with a persons income .Thus we can change it with mode"
   ]
  },
  {
   "cell_type": "code",
   "execution_count": 1007,
   "id": "2e979c20",
   "metadata": {},
   "outputs": [],
   "source": [
    "### Income_Alt"
   ]
  },
  {
   "cell_type": "code",
   "execution_count": 1008,
   "id": "d4bbbe99",
   "metadata": {},
   "outputs": [
    {
     "data": {
      "text/html": [
       "<div>\n",
       "<style scoped>\n",
       "    .dataframe tbody tr th:only-of-type {\n",
       "        vertical-align: middle;\n",
       "    }\n",
       "\n",
       "    .dataframe tbody tr th {\n",
       "        vertical-align: top;\n",
       "    }\n",
       "\n",
       "    .dataframe thead th {\n",
       "        text-align: right;\n",
       "    }\n",
       "</style>\n",
       "<table border=\"1\" class=\"dataframe\">\n",
       "  <thead>\n",
       "    <tr style=\"text-align: right;\">\n",
       "      <th>Prop_List</th>\n",
       "      <th>Morethan_One</th>\n",
       "      <th>None</th>\n",
       "      <th>One</th>\n",
       "      <th>All</th>\n",
       "    </tr>\n",
       "    <tr>\n",
       "      <th>Income_Alt</th>\n",
       "      <th></th>\n",
       "      <th></th>\n",
       "      <th></th>\n",
       "      <th></th>\n",
       "    </tr>\n",
       "  </thead>\n",
       "  <tbody>\n",
       "    <tr>\n",
       "      <th>Not_Specified</th>\n",
       "      <td>26012</td>\n",
       "      <td>13002</td>\n",
       "      <td>89275</td>\n",
       "      <td>128289</td>\n",
       "    </tr>\n",
       "    <tr>\n",
       "      <th>Y</th>\n",
       "      <td>8790</td>\n",
       "      <td>4576</td>\n",
       "      <td>36564</td>\n",
       "      <td>49930</td>\n",
       "    </tr>\n",
       "    <tr>\n",
       "      <th>All</th>\n",
       "      <td>34802</td>\n",
       "      <td>17578</td>\n",
       "      <td>125839</td>\n",
       "      <td>178219</td>\n",
       "    </tr>\n",
       "  </tbody>\n",
       "</table>\n",
       "</div>"
      ],
      "text/plain": [
       "Prop_List      Morethan_One   None     One     All\n",
       "Income_Alt                                        \n",
       "Not_Specified         26012  13002   89275  128289\n",
       "Y                      8790   4576   36564   49930\n",
       "All                   34802  17578  125839  178219"
      ]
     },
     "execution_count": 1008,
     "metadata": {},
     "output_type": "execute_result"
    }
   ],
   "source": [
    "pd.crosstab(combined['Income_Alt'],combined['Prop_List'],margins=True)"
   ]
  },
  {
   "cell_type": "code",
   "execution_count": 1009,
   "id": "2265f2bc",
   "metadata": {},
   "outputs": [],
   "source": [
    "combined['Income_Alt']=combined['Income_Alt'].fillna('Not_Specified')"
   ]
  },
  {
   "cell_type": "markdown",
   "id": "90c7a52e",
   "metadata": {},
   "source": [
    "* Since the information about alternative source of income is not specified by most of the applicants and it contains null value .\n",
    "* thus we cannot inferr much from this column ,hence we can drop the column."
   ]
  },
  {
   "cell_type": "code",
   "execution_count": 1010,
   "id": "5fd46bca",
   "metadata": {},
   "outputs": [],
   "source": [
    "## Verified applicants have a high proportion of not defaulting the loan."
   ]
  },
  {
   "cell_type": "markdown",
   "id": "b5b309c3",
   "metadata": {},
   "source": [
    "## 2 Exploratory Data Analyis"
   ]
  },
  {
   "cell_type": "markdown",
   "id": "ab955d0a",
   "metadata": {},
   "source": [
    "In this section you can talk about the plots and the insights you have generated from the data\n",
    "\n",
    "\n",
    "\n",
    "\n",
    "\n",
    "\n",
    "\n",
    "\n",
    "\n",
    "\n",
    "\n",
    "\n",
    "\n",
    "\n",
    "\n",
    "\n",
    "\n",
    "\n",
    "\n",
    "\n",
    "\n",
    "\n",
    "\n"
   ]
  },
  {
   "cell_type": "code",
   "execution_count": 1011,
   "id": "bd26e476",
   "metadata": {},
   "outputs": [
    {
     "data": {
      "text/plain": [
       "0.0    7339\n",
       "1.0    3003\n",
       "Name: Default, dtype: int64"
      ]
     },
     "execution_count": 1011,
     "metadata": {},
     "output_type": "execute_result"
    }
   ],
   "source": [
    "combined[combined['Addr_permanent']=='No']['Default'].value_counts()"
   ]
  },
  {
   "cell_type": "code",
   "execution_count": 1012,
   "id": "ce777664",
   "metadata": {},
   "outputs": [
    {
     "data": {
      "text/html": [
       "<div>\n",
       "<style scoped>\n",
       "    .dataframe tbody tr th:only-of-type {\n",
       "        vertical-align: middle;\n",
       "    }\n",
       "\n",
       "    .dataframe tbody tr th {\n",
       "        vertical-align: top;\n",
       "    }\n",
       "\n",
       "    .dataframe thead th {\n",
       "        text-align: right;\n",
       "    }\n",
       "</style>\n",
       "<table border=\"1\" class=\"dataframe\">\n",
       "  <thead>\n",
       "    <tr style=\"text-align: right;\">\n",
       "      <th>Permanent_Addr_tag</th>\n",
       "      <th>No</th>\n",
       "      <th>Yes</th>\n",
       "    </tr>\n",
       "    <tr>\n",
       "      <th>Addr_permanent</th>\n",
       "      <th></th>\n",
       "      <th></th>\n",
       "    </tr>\n",
       "  </thead>\n",
       "  <tbody>\n",
       "    <tr>\n",
       "      <th>No</th>\n",
       "      <td>2247</td>\n",
       "      <td>8095</td>\n",
       "    </tr>\n",
       "    <tr>\n",
       "      <th>Yes</th>\n",
       "      <td>21577</td>\n",
       "      <td>100521</td>\n",
       "    </tr>\n",
       "  </tbody>\n",
       "</table>\n",
       "</div>"
      ],
      "text/plain": [
       "Permanent_Addr_tag     No     Yes\n",
       "Addr_permanent                   \n",
       "No                   2247    8095\n",
       "Yes                 21577  100521"
      ]
     },
     "execution_count": 1012,
     "metadata": {},
     "output_type": "execute_result"
    }
   ],
   "source": [
    "combined.pivot_table(values='Default',index='Addr_permanent',columns='Permanent_Addr_tag',aggfunc='count')"
   ]
  },
  {
   "cell_type": "code",
   "execution_count": 1013,
   "id": "31d62c25",
   "metadata": {},
   "outputs": [],
   "source": [
    "cat=combined.select_dtypes(include=np.object_).columns\n",
    "num=combined.select_dtypes(exclude=np.object_).columns"
   ]
  },
  {
   "cell_type": "code",
   "execution_count": 1014,
   "id": "eb5a4f94",
   "metadata": {},
   "outputs": [
    {
     "data": {
      "text/plain": [
       "(18, 16)"
      ]
     },
     "execution_count": 1014,
     "metadata": {},
     "output_type": "execute_result"
    }
   ],
   "source": [
    "len(cat),len(num)"
   ]
  },
  {
   "cell_type": "code",
   "execution_count": 1015,
   "id": "8d769f93",
   "metadata": {},
   "outputs": [],
   "source": [
    "### Univariate analysis -Cat"
   ]
  },
  {
   "cell_type": "code",
   "execution_count": 1016,
   "id": "8f42b44b",
   "metadata": {},
   "outputs": [
    {
     "data": {
      "text/plain": [
       "<AxesSubplot:>"
      ]
     },
     "execution_count": 1016,
     "metadata": {},
     "output_type": "execute_result"
    },
    {
     "data": {
      "image/png": "[encoded data removed]",
      "text/plain": [
       "<Figure size 432x288 with 1 Axes>"
      ]
     },
     "metadata": {
      "needs_background": "light"
     },
     "output_type": "display_data"
    }
   ],
   "source": [
    "combined['Default'].value_counts().plot(kind='bar')"
   ]
  },
  {
   "cell_type": "code",
   "execution_count": 1017,
   "id": "8b598480",
   "metadata": {},
   "outputs": [],
   "source": [
    "## The target classes are not balanced .\n",
    "##Thus we will have to perform smote to avoid accuracy paradox"
   ]
  },
  {
   "cell_type": "code",
   "execution_count": 1018,
   "id": "c1a19838",
   "metadata": {},
   "outputs": [
    {
     "data": {
      "image/png": "[encoded data removed]",
      "text/plain": [
       "<Figure size 720x1080 with 18 Axes>"
      ]
     },
     "metadata": {
      "needs_background": "light"
     },
     "output_type": "display_data"
    }
   ],
   "source": [
    "plt.figure(figsize=[10,15])\n",
    "a=9\n",
    "b=2\n",
    "c=1\n",
    "for i in cat:\n",
    "    plt.subplot(a,b,c)\n",
    "    plt.title(i)\n",
    "    sns.countplot(combined.loc[:,i])\n",
    "    c+=1\n",
    "plt.tight_layout()\n",
    "plt.show()"
   ]
  },
  {
   "cell_type": "markdown",
   "id": "431887ec",
   "metadata": {},
   "source": [
    "* The day process column shows that most of the applications are processed on weekdays so we can change the values to weekday and weekend."
   ]
  },
  {
   "cell_type": "code",
   "execution_count": 1019,
   "id": "69f9e092",
   "metadata": {},
   "outputs": [],
   "source": [
    "a=combined[combined['Day_Process'].isin(['SAT','Sun'])].index\n",
    "b=combined[~(combined['Day_Process'].isin(['SAT','Sun']))].index\n",
    "combined.loc[a,'Day_Process']='Weekend'\n",
    "combined.loc[b,'Day_Process']='Weekday'"
   ]
  },
  {
   "cell_type": "code",
   "execution_count": 1020,
   "id": "770f05fa",
   "metadata": {},
   "outputs": [
    {
     "data": {
      "text/plain": [
       "<AxesSubplot:xlabel='Day_Process', ylabel='count'>"
      ]
     },
     "execution_count": 1020,
     "metadata": {},
     "output_type": "execute_result"
    },
    {
     "data": {
      "image/png": "[encoded data removed]",
      "text/plain": [
       "<Figure size 432x288 with 1 Axes>"
      ]
     },
     "metadata": {
      "needs_background": "light"
     },
     "output_type": "display_data"
    }
   ],
   "source": [
    "sns.countplot(combined['Day_Process'])"
   ]
  },
  {
   "cell_type": "code",
   "execution_count": 1021,
   "id": "90acb28c",
   "metadata": {},
   "outputs": [],
   "source": [
    "##Numeric"
   ]
  },
  {
   "cell_type": "code",
   "execution_count": 1022,
   "id": "70878f48",
   "metadata": {},
   "outputs": [
    {
     "data": {
      "image/png": "[encoded data removed]",
      "text/plain": [
       "<Figure size 720x720 with 16 Axes>"
      ]
     },
     "metadata": {
      "needs_background": "light"
     },
     "output_type": "display_data"
    }
   ],
   "source": [
    "combined.hist(figsize=[10,10])\n",
    "plt.show()"
   ]
  },
  {
   "cell_type": "code",
   "execution_count": 1023,
   "id": "e79cbe2e",
   "metadata": {},
   "outputs": [
    {
     "data": {
      "text/plain": [
       "<AxesSubplot:>"
      ]
     },
     "execution_count": 1023,
     "metadata": {},
     "output_type": "execute_result"
    },
    {
     "data": {
      "image/png": "[encoded data removed]",
      "text/plain": [
       "<Figure size 720x720 with 2 Axes>"
      ]
     },
     "metadata": {
      "needs_background": "light"
     },
     "output_type": "display_data"
    }
   ],
   "source": [
    "plt.figure(figsize=[10,10])\n",
    "sns.heatmap(combined.corr()[abs(combined.corr())>0.5],annot=True)"
   ]
  },
  {
   "cell_type": "code",
   "execution_count": 1024,
   "id": "1ca18f7e",
   "metadata": {},
   "outputs": [],
   "source": [
    "# We can say that the independent variables are not correlated to each other except for density index and dependents."
   ]
  },
  {
   "cell_type": "code",
   "execution_count": 1025,
   "id": "7fb4c993",
   "metadata": {},
   "outputs": [
    {
     "data": {
      "text/html": [
       "<div>\n",
       "<style scoped>\n",
       "    .dataframe tbody tr th:only-of-type {\n",
       "        vertical-align: middle;\n",
       "    }\n",
       "\n",
       "    .dataframe tbody tr th {\n",
       "        vertical-align: top;\n",
       "    }\n",
       "\n",
       "    .dataframe thead th {\n",
       "        text-align: right;\n",
       "    }\n",
       "</style>\n",
       "<table border=\"1\" class=\"dataframe\">\n",
       "  <thead>\n",
       "    <tr style=\"text-align: right;\">\n",
       "      <th>Dependents</th>\n",
       "      <th>1.0</th>\n",
       "      <th>2.0</th>\n",
       "      <th>3.0</th>\n",
       "      <th>4.0</th>\n",
       "      <th>5.0</th>\n",
       "      <th>6.0</th>\n",
       "      <th>7.0</th>\n",
       "      <th>8.0</th>\n",
       "      <th>9.0</th>\n",
       "    </tr>\n",
       "    <tr>\n",
       "      <th>Marital_Stat</th>\n",
       "      <th></th>\n",
       "      <th></th>\n",
       "      <th></th>\n",
       "      <th></th>\n",
       "      <th></th>\n",
       "      <th></th>\n",
       "      <th></th>\n",
       "      <th></th>\n",
       "      <th></th>\n",
       "    </tr>\n",
       "  </thead>\n",
       "  <tbody>\n",
       "    <tr>\n",
       "      <th>Divorce</th>\n",
       "      <td>8337</td>\n",
       "      <td>2838</td>\n",
       "      <td>797</td>\n",
       "      <td>133</td>\n",
       "      <td>10</td>\n",
       "      <td>3</td>\n",
       "      <td>0</td>\n",
       "      <td>0</td>\n",
       "      <td>0</td>\n",
       "    </tr>\n",
       "    <tr>\n",
       "      <th>Married</th>\n",
       "      <td>1466</td>\n",
       "      <td>89907</td>\n",
       "      <td>30608</td>\n",
       "      <td>14861</td>\n",
       "      <td>2186</td>\n",
       "      <td>247</td>\n",
       "      <td>40</td>\n",
       "      <td>16</td>\n",
       "      <td>3</td>\n",
       "    </tr>\n",
       "    <tr>\n",
       "      <th>Single</th>\n",
       "      <td>23160</td>\n",
       "      <td>3887</td>\n",
       "      <td>768</td>\n",
       "      <td>159</td>\n",
       "      <td>19</td>\n",
       "      <td>5</td>\n",
       "      <td>1</td>\n",
       "      <td>0</td>\n",
       "      <td>0</td>\n",
       "    </tr>\n",
       "    <tr>\n",
       "      <th>Widow</th>\n",
       "      <td>8713</td>\n",
       "      <td>772</td>\n",
       "      <td>184</td>\n",
       "      <td>71</td>\n",
       "      <td>4</td>\n",
       "      <td>3</td>\n",
       "      <td>1</td>\n",
       "      <td>1</td>\n",
       "      <td>0</td>\n",
       "    </tr>\n",
       "  </tbody>\n",
       "</table>\n",
       "</div>"
      ],
      "text/plain": [
       "Dependents      1.0    2.0    3.0    4.0   5.0  6.0  7.0  8.0  9.0\n",
       "Marital_Stat                                                      \n",
       "Divorce        8337   2838    797    133    10    3    0    0    0\n",
       "Married        1466  89907  30608  14861  2186  247   40   16    3\n",
       "Single        23160   3887    768    159    19    5    1    0    0\n",
       "Widow          8713    772    184     71     4    3    1    1    0"
      ]
     },
     "execution_count": 1025,
     "metadata": {},
     "output_type": "execute_result"
    }
   ],
   "source": [
    "pd.crosstab(combined['Marital_Stat'],combined['Dependents'])"
   ]
  },
  {
   "cell_type": "markdown",
   "id": "a36adaec",
   "metadata": {},
   "source": [
    "* We can see that only Married applicants tend to have more than 2 or more dependents whereas the others mostly have only 1 or2 dependents."
   ]
  },
  {
   "cell_type": "code",
   "execution_count": 1026,
   "id": "53cd0009",
   "metadata": {},
   "outputs": [
    {
     "data": {
      "text/plain": [
       "Marital_Stat\n",
       "Divorce     12118\n",
       "Married    139334\n",
       "Single      27999\n",
       "Widow        9749\n",
       "Name: Dependents, dtype: int64"
      ]
     },
     "execution_count": 1026,
     "metadata": {},
     "output_type": "execute_result"
    }
   ],
   "source": [
    "combined.groupby('Marital_Stat').count()['Dependents']"
   ]
  },
  {
   "cell_type": "code",
   "execution_count": 1027,
   "id": "0bebd79b",
   "metadata": {},
   "outputs": [],
   "source": [
    "## Bivariate"
   ]
  },
  {
   "cell_type": "code",
   "execution_count": 1028,
   "id": "684f3c13",
   "metadata": {},
   "outputs": [
    {
     "data": {
      "image/png": "[encoded data removed]",
      "text/plain": [
       "<Figure size 1080x1080 with 18 Axes>"
      ]
     },
     "metadata": {
      "needs_background": "light"
     },
     "output_type": "display_data"
    }
   ],
   "source": [
    "plt.figure(figsize=[15,15])\n",
    "a=9\n",
    "b=2\n",
    "c=1\n",
    "for i in cat:\n",
    "    plt.subplot(a,b,c)\n",
    "    plt.title(i)\n",
    "    sns.countplot(combined.loc[:,i],hue=combined['Default'])\n",
    "    c+=1\n",
    "plt.tight_layout()\n",
    "plt.show()"
   ]
  },
  {
   "cell_type": "code",
   "execution_count": 1029,
   "id": "7f4cb253",
   "metadata": {},
   "outputs": [
    {
     "data": {
      "text/plain": [
       "Index(['ID', 'Compensation', 'Vehicle_Status', 'Loan_amt', 'Annuity_amt',\n",
       "       'density_Ind', 'Job_Type', 'Default_hist', 'Prop_List',\n",
       "       'Home_Appliances', 'Region_Type', 'Credit_Inq', 'Education_det',\n",
       "       'Marital_Stat', 'Gen', 'Credit_Lnks', 'Experience', 'Income_Alt',\n",
       "       'Day_Process', 'Ph.No', 'Type_Loan', 'Dependents', 'Company_Rating',\n",
       "       'Region', 'Age', 'hour_Process', 'Addr_permanent', 'Permanent_Addr_tag',\n",
       "       'c1_rated', 'c2_rated', 'Contact_age', 'Product_bought', 'Default',\n",
       "       'Age_grp'],\n",
       "      dtype='object')"
      ]
     },
     "execution_count": 1029,
     "metadata": {},
     "output_type": "execute_result"
    }
   ],
   "source": [
    "combined.columns"
   ]
  },
  {
   "cell_type": "code",
   "execution_count": 1030,
   "id": "f49f53fb",
   "metadata": {},
   "outputs": [],
   "source": [
    "comb=combined.drop(['Income_Alt','c2_rated','ID','Contact_age','Age'],axis=1)"
   ]
  },
  {
   "cell_type": "code",
   "execution_count": 1031,
   "id": "dadf70de",
   "metadata": {},
   "outputs": [
    {
     "data": {
      "text/plain": [
       "((189200, 29), (189200, 34))"
      ]
     },
     "execution_count": 1031,
     "metadata": {},
     "output_type": "execute_result"
    }
   ],
   "source": [
    "comb.shape,combined.shape"
   ]
  },
  {
   "cell_type": "code",
   "execution_count": 1032,
   "id": "35b122bf",
   "metadata": {},
   "outputs": [],
   "source": [
    "new_train=comb.iloc[0:train.shape[0]]\n",
    "new_test=comb.iloc[train.shape[0]:]\n",
    "new_test=new_test.drop('Default',axis=1)"
   ]
  },
  {
   "cell_type": "code",
   "execution_count": 1033,
   "id": "4c7823db",
   "metadata": {},
   "outputs": [
    {
     "data": {
      "text/plain": [
       "((132440, 29), (56760, 28))"
      ]
     },
     "execution_count": 1033,
     "metadata": {},
     "output_type": "execute_result"
    }
   ],
   "source": [
    "new_train.shape,new_test.shape"
   ]
  },
  {
   "cell_type": "code",
   "execution_count": 1034,
   "id": "9cbda57b",
   "metadata": {},
   "outputs": [
    {
     "data": {
      "text/plain": [
       "((132440, 33), (56760, 32))"
      ]
     },
     "execution_count": 1034,
     "metadata": {},
     "output_type": "execute_result"
    }
   ],
   "source": [
    "train.shape,test.shape"
   ]
  },
  {
   "cell_type": "code",
   "execution_count": 1035,
   "id": "b25e83cf",
   "metadata": {},
   "outputs": [],
   "source": [
    "### Outliers"
   ]
  },
  {
   "cell_type": "code",
   "execution_count": 1036,
   "id": "d8536444",
   "metadata": {},
   "outputs": [
    {
     "data": {
      "text/plain": [
       "Index(['Compensation', 'Loan_amt', 'Annuity_amt', 'density_Ind',\n",
       "       'Home_Appliances', 'Experience', 'Dependents', 'Company_Rating',\n",
       "       'hour_Process', 'c1_rated', 'Product_bought', 'Default'],\n",
       "      dtype='object')"
      ]
     },
     "execution_count": 1036,
     "metadata": {},
     "output_type": "execute_result"
    }
   ],
   "source": [
    "col=new_train.select_dtypes(include=np.number).columns\n",
    "col"
   ]
  },
  {
   "cell_type": "code",
   "execution_count": 1037,
   "id": "56a3caf0",
   "metadata": {},
   "outputs": [
    {
     "data": {
      "image/png": "[encoded data removed]",
      "text/plain": [
       "<Figure size 1080x1080 with 12 Axes>"
      ]
     },
     "metadata": {
      "needs_background": "light"
     },
     "output_type": "display_data"
    }
   ],
   "source": [
    "plt.figure(figsize=[15,15])\n",
    "a=6\n",
    "b=2\n",
    "c=1\n",
    "for i in col:\n",
    "    plt.subplot(a,b,c)\n",
    "    plt.title(i)\n",
    "    sns.boxplot(combined.loc[:,i])\n",
    "    c+=1\n",
    "plt.tight_layout()\n",
    "plt.show()"
   ]
  },
  {
   "cell_type": "code",
   "execution_count": 1038,
   "id": "f2a2468b",
   "metadata": {},
   "outputs": [
    {
     "data": {
      "text/plain": [
       "((132440, 41), (56760, 40))"
      ]
     },
     "execution_count": 1038,
     "metadata": {},
     "output_type": "execute_result"
    }
   ],
   "source": [
    "new=pd.get_dummies(new_train,drop_first=True)\n",
    "test_new=pd.get_dummies(new_test,drop_first=True)\n",
    "new.shape,test_new.shape"
   ]
  },
  {
   "cell_type": "code",
   "execution_count": 1039,
   "id": "515b8dd5",
   "metadata": {},
   "outputs": [],
   "source": [
    "from sklearn.preprocessing import RobustScaler,MinMaxScaler"
   ]
  },
  {
   "cell_type": "code",
   "execution_count": 1040,
   "id": "bab04e74",
   "metadata": {},
   "outputs": [
    {
     "data": {
      "text/plain": [
       "(132440, 41)"
      ]
     },
     "execution_count": 1040,
     "metadata": {},
     "output_type": "execute_result"
    }
   ],
   "source": [
    "rs=RobustScaler()\n",
    "new_Train=pd.DataFrame(rs.fit_transform(new),columns=new.columns)\n",
    "new_Train.shape"
   ]
  },
  {
   "cell_type": "code",
   "execution_count": 1041,
   "id": "f03f7e4e",
   "metadata": {},
   "outputs": [
    {
     "data": {
      "text/html": [
       "<div>\n",
       "<style scoped>\n",
       "    .dataframe tbody tr th:only-of-type {\n",
       "        vertical-align: middle;\n",
       "    }\n",
       "\n",
       "    .dataframe tbody tr th {\n",
       "        vertical-align: top;\n",
       "    }\n",
       "\n",
       "    .dataframe thead th {\n",
       "        text-align: right;\n",
       "    }\n",
       "</style>\n",
       "<table border=\"1\" class=\"dataframe\">\n",
       "  <thead>\n",
       "    <tr style=\"text-align: right;\">\n",
       "      <th></th>\n",
       "      <th>Compensation</th>\n",
       "      <th>Loan_amt</th>\n",
       "      <th>Annuity_amt</th>\n",
       "      <th>density_Ind</th>\n",
       "      <th>Home_Appliances</th>\n",
       "      <th>Experience</th>\n",
       "      <th>Dependents</th>\n",
       "      <th>Company_Rating</th>\n",
       "      <th>hour_Process</th>\n",
       "      <th>c1_rated</th>\n",
       "      <th>...</th>\n",
       "      <th>Day_Process_Weekend</th>\n",
       "      <th>Ph.No_Yes</th>\n",
       "      <th>Type_Loan_RLoan</th>\n",
       "      <th>Region_East</th>\n",
       "      <th>Region_North</th>\n",
       "      <th>Region_South</th>\n",
       "      <th>Addr_permanent_Yes</th>\n",
       "      <th>Permanent_Addr_tag_Yes</th>\n",
       "      <th>Age_grp_Retired</th>\n",
       "      <th>Age_grp_Young</th>\n",
       "    </tr>\n",
       "  </thead>\n",
       "  <tbody>\n",
       "    <tr>\n",
       "      <th>0</th>\n",
       "      <td>0.415187</td>\n",
       "      <td>0.872263</td>\n",
       "      <td>1.117170</td>\n",
       "      <td>0.520833</td>\n",
       "      <td>-1.5</td>\n",
       "      <td>-0.605263</td>\n",
       "      <td>1.0</td>\n",
       "      <td>0.0</td>\n",
       "      <td>-0.4</td>\n",
       "      <td>-0.729459</td>\n",
       "      <td>...</td>\n",
       "      <td>1.0</td>\n",
       "      <td>0.0</td>\n",
       "      <td>0.0</td>\n",
       "      <td>1.0</td>\n",
       "      <td>0.0</td>\n",
       "      <td>0.0</td>\n",
       "      <td>0.0</td>\n",
       "      <td>-1.0</td>\n",
       "      <td>0.0</td>\n",
       "      <td>0.0</td>\n",
       "    </tr>\n",
       "    <tr>\n",
       "      <th>1</th>\n",
       "      <td>0.655477</td>\n",
       "      <td>-0.428267</td>\n",
       "      <td>0.139006</td>\n",
       "      <td>-0.052083</td>\n",
       "      <td>-1.5</td>\n",
       "      <td>-0.328947</td>\n",
       "      <td>1.0</td>\n",
       "      <td>-1.0</td>\n",
       "      <td>0.0</td>\n",
       "      <td>-0.515030</td>\n",
       "      <td>...</td>\n",
       "      <td>0.0</td>\n",
       "      <td>0.0</td>\n",
       "      <td>0.0</td>\n",
       "      <td>0.0</td>\n",
       "      <td>1.0</td>\n",
       "      <td>0.0</td>\n",
       "      <td>0.0</td>\n",
       "      <td>0.0</td>\n",
       "      <td>0.0</td>\n",
       "      <td>0.0</td>\n",
       "    </tr>\n",
       "    <tr>\n",
       "      <th>2</th>\n",
       "      <td>-1.095096</td>\n",
       "      <td>-0.702584</td>\n",
       "      <td>-0.890666</td>\n",
       "      <td>-0.447917</td>\n",
       "      <td>0.0</td>\n",
       "      <td>0.000000</td>\n",
       "      <td>0.0</td>\n",
       "      <td>1.0</td>\n",
       "      <td>-1.4</td>\n",
       "      <td>0.194389</td>\n",
       "      <td>...</td>\n",
       "      <td>0.0</td>\n",
       "      <td>0.0</td>\n",
       "      <td>0.0</td>\n",
       "      <td>0.0</td>\n",
       "      <td>1.0</td>\n",
       "      <td>0.0</td>\n",
       "      <td>0.0</td>\n",
       "      <td>0.0</td>\n",
       "      <td>0.0</td>\n",
       "      <td>0.0</td>\n",
       "    </tr>\n",
       "    <tr>\n",
       "      <th>3</th>\n",
       "      <td>-0.926620</td>\n",
       "      <td>-0.482178</td>\n",
       "      <td>-1.337024</td>\n",
       "      <td>0.880208</td>\n",
       "      <td>-1.0</td>\n",
       "      <td>-0.105263</td>\n",
       "      <td>2.0</td>\n",
       "      <td>0.0</td>\n",
       "      <td>0.0</td>\n",
       "      <td>0.240481</td>\n",
       "      <td>...</td>\n",
       "      <td>0.0</td>\n",
       "      <td>0.0</td>\n",
       "      <td>1.0</td>\n",
       "      <td>0.0</td>\n",
       "      <td>0.0</td>\n",
       "      <td>1.0</td>\n",
       "      <td>0.0</td>\n",
       "      <td>0.0</td>\n",
       "      <td>0.0</td>\n",
       "      <td>0.0</td>\n",
       "    </tr>\n",
       "    <tr>\n",
       "      <th>4</th>\n",
       "      <td>1.751362</td>\n",
       "      <td>0.633837</td>\n",
       "      <td>0.893763</td>\n",
       "      <td>-0.343750</td>\n",
       "      <td>-1.5</td>\n",
       "      <td>0.184211</td>\n",
       "      <td>1.0</td>\n",
       "      <td>-1.0</td>\n",
       "      <td>0.8</td>\n",
       "      <td>-0.482966</td>\n",
       "      <td>...</td>\n",
       "      <td>1.0</td>\n",
       "      <td>0.0</td>\n",
       "      <td>0.0</td>\n",
       "      <td>0.0</td>\n",
       "      <td>1.0</td>\n",
       "      <td>0.0</td>\n",
       "      <td>0.0</td>\n",
       "      <td>0.0</td>\n",
       "      <td>0.0</td>\n",
       "      <td>1.0</td>\n",
       "    </tr>\n",
       "  </tbody>\n",
       "</table>\n",
       "<p>5 rows × 41 columns</p>\n",
       "</div>"
      ],
      "text/plain": [
       "   Compensation  Loan_amt  Annuity_amt  density_Ind  Home_Appliances  \\\n",
       "0      0.415187  0.872263     1.117170     0.520833             -1.5   \n",
       "1      0.655477 -0.428267     0.139006    -0.052083             -1.5   \n",
       "2     -1.095096 -0.702584    -0.890666    -0.447917              0.0   \n",
       "3     -0.926620 -0.482178    -1.337024     0.880208             -1.0   \n",
       "4      1.751362  0.633837     0.893763    -0.343750             -1.5   \n",
       "\n",
       "   Experience  Dependents  Company_Rating  hour_Process  c1_rated  ...  \\\n",
       "0   -0.605263         1.0             0.0          -0.4 -0.729459  ...   \n",
       "1   -0.328947         1.0            -1.0           0.0 -0.515030  ...   \n",
       "2    0.000000         0.0             1.0          -1.4  0.194389  ...   \n",
       "3   -0.105263         2.0             0.0           0.0  0.240481  ...   \n",
       "4    0.184211         1.0            -1.0           0.8 -0.482966  ...   \n",
       "\n",
       "   Day_Process_Weekend  Ph.No_Yes  Type_Loan_RLoan  Region_East  Region_North  \\\n",
       "0                  1.0        0.0              0.0          1.0           0.0   \n",
       "1                  0.0        0.0              0.0          0.0           1.0   \n",
       "2                  0.0        0.0              0.0          0.0           1.0   \n",
       "3                  0.0        0.0              1.0          0.0           0.0   \n",
       "4                  1.0        0.0              0.0          0.0           1.0   \n",
       "\n",
       "   Region_South  Addr_permanent_Yes  Permanent_Addr_tag_Yes  Age_grp_Retired  \\\n",
       "0           0.0                 0.0                    -1.0              0.0   \n",
       "1           0.0                 0.0                     0.0              0.0   \n",
       "2           0.0                 0.0                     0.0              0.0   \n",
       "3           1.0                 0.0                     0.0              0.0   \n",
       "4           0.0                 0.0                     0.0              0.0   \n",
       "\n",
       "   Age_grp_Young  \n",
       "0            0.0  \n",
       "1            0.0  \n",
       "2            0.0  \n",
       "3            0.0  \n",
       "4            1.0  \n",
       "\n",
       "[5 rows x 41 columns]"
      ]
     },
     "execution_count": 1041,
     "metadata": {},
     "output_type": "execute_result"
    }
   ],
   "source": [
    "new_Train.head()"
   ]
  },
  {
   "cell_type": "code",
   "execution_count": 1042,
   "id": "1a1a39d6",
   "metadata": {},
   "outputs": [],
   "source": [
    "from sklearn.model_selection import train_test_split"
   ]
  },
  {
   "cell_type": "code",
   "execution_count": 1043,
   "id": "d70045d9",
   "metadata": {},
   "outputs": [],
   "source": [
    "X=new_Train.drop('Default',axis=1)\n",
    "y=new_Train['Default']\n",
    "xtrain,xtest,ytrain,ytest=train_test_split(X,y,test_size=0.3,random_state=1)"
   ]
  },
  {
   "cell_type": "code",
   "execution_count": 1044,
   "id": "a3088c1f",
   "metadata": {},
   "outputs": [
    {
     "data": {
      "text/plain": [
       "0.0    68181\n",
       "1.0    24527\n",
       "Name: Default, dtype: int64"
      ]
     },
     "execution_count": 1044,
     "metadata": {},
     "output_type": "execute_result"
    }
   ],
   "source": [
    "ytrain.value_counts()"
   ]
  },
  {
   "cell_type": "code",
   "execution_count": 1045,
   "id": "33891abd",
   "metadata": {},
   "outputs": [],
   "source": [
    "## SMOTE"
   ]
  },
  {
   "cell_type": "code",
   "execution_count": 1046,
   "id": "a9fced14",
   "metadata": {},
   "outputs": [],
   "source": [
    "from imblearn.over_sampling import SMOTE\n",
    "sm=SMOTE(random_state=123)\n",
    "new_x,new_y=sm.fit_resample(xtrain,ytrain)"
   ]
  },
  {
   "cell_type": "code",
   "execution_count": 1047,
   "id": "94fbae3f",
   "metadata": {},
   "outputs": [
    {
     "data": {
      "text/plain": [
       "0.0    68181\n",
       "1.0    68181\n",
       "Name: Default, dtype: int64"
      ]
     },
     "execution_count": 1047,
     "metadata": {},
     "output_type": "execute_result"
    }
   ],
   "source": [
    "new_y.value_counts()"
   ]
  },
  {
   "cell_type": "code",
   "execution_count": 1048,
   "id": "e75c7ba3",
   "metadata": {},
   "outputs": [],
   "source": [
    "## Now the data have balanced classes"
   ]
  },
  {
   "cell_type": "markdown",
   "id": "d7d85628",
   "metadata": {},
   "source": [
    "## 3 Model Building"
   ]
  },
  {
   "cell_type": "markdown",
   "id": "31a1f68c",
   "metadata": {},
   "source": [
    "In this you can build various ML models and try tuning the parameters involved to achieve better score"
   ]
  },
  {
   "cell_type": "code",
   "execution_count": 1049,
   "id": "bd6c962c",
   "metadata": {},
   "outputs": [],
   "source": [
    "from xgboost import XGBClassifier\n",
    "from sklearn.metrics import classification_report"
   ]
  },
  {
   "cell_type": "markdown",
   "id": "8b1cf2ac",
   "metadata": {},
   "source": [
    "## Model 1"
   ]
  },
  {
   "cell_type": "code",
   "execution_count": 1050,
   "id": "ef5c751a",
   "metadata": {},
   "outputs": [],
   "source": [
    "xg=XGBClassifier()\n",
    "model=xg.fit(new_x,new_y)\n",
    "# pred=model.predict(xtest)\n",
    "# print(classification_report(pred,ytest))\n"
   ]
  },
  {
   "cell_type": "code",
   "execution_count": 1051,
   "id": "8709f34a",
   "metadata": {},
   "outputs": [
    {
     "name": "stdout",
     "output_type": "stream",
     "text": [
      "              precision    recall  f1-score   support\n",
      "\n",
      "           0       1.00      0.74      0.85     92066\n",
      "           1       0.65      1.00      0.79     44296\n",
      "\n",
      "    accuracy                           0.82    136362\n",
      "   macro avg       0.82      0.87      0.82    136362\n",
      "weighted avg       0.89      0.82      0.83    136362\n",
      "\n"
     ]
    }
   ],
   "source": [
    "pred=model.predict(new_x)\n",
    "print(classification_report(pred,new_y))\n"
   ]
  },
  {
   "cell_type": "code",
   "execution_count": 1052,
   "id": "a45ec260",
   "metadata": {},
   "outputs": [],
   "source": [
    "pred=pd.Series(model.predict(test_new))\n",
    "test_pred=pd.concat([test['ID'],pred],axis=1)\n",
    "test_pred.index=test_new.index\n",
    "test_pred.rename({0:'Default'},axis=1,inplace=True)"
   ]
  },
  {
   "cell_type": "code",
   "execution_count": 1053,
   "id": "de2dc387",
   "metadata": {},
   "outputs": [
    {
     "data": {
      "text/plain": [
       "1    29493\n",
       "0    27267\n",
       "Name: Default, dtype: int64"
      ]
     },
     "execution_count": 1053,
     "metadata": {},
     "output_type": "execute_result"
    }
   ],
   "source": [
    "test_pred['Default'].value_counts()"
   ]
  },
  {
   "cell_type": "code",
   "execution_count": 1054,
   "id": "1dfa9a4f",
   "metadata": {},
   "outputs": [],
   "source": [
    "test_pred.to_csv('submission.csv',index=False)"
   ]
  },
  {
   "cell_type": "markdown",
   "id": "ea85664f",
   "metadata": {},
   "source": [
    "## Model 2 "
   ]
  },
  {
   "cell_type": "code",
   "execution_count": 1092,
   "id": "6c1ff1e5",
   "metadata": {},
   "outputs": [
    {
     "name": "stdout",
     "output_type": "stream",
     "text": [
      "{'criterion': 'friedman_mse'} -0.43162475439456416\n"
     ]
    }
   ],
   "source": [
    "from sklearn.model_selection import GridSearchCV,KFold\n",
    "param={'criterion': ['friedman_mse', 'squared_error', 'mse']}\n",
    "k=KFold(n_splits=3,shuffle=True,random_state=123)\n",
    "g=GridSearchCV(estimator=gb,param_grid=param,scoring='neg_log_loss',n_jobs=1,cv=k)\n",
    "mod=g.fit(new_x,new_y)\n",
    "print(mod.best_params_,mod.best_score_)"
   ]
  },
  {
   "cell_type": "code",
   "execution_count": 1096,
   "id": "4c2d5ac5",
   "metadata": {},
   "outputs": [
    {
     "name": "stdout",
     "output_type": "stream",
     "text": [
      "              precision    recall  f1-score   support\n",
      "\n",
      "         0.0       1.00      0.74      0.85     39658\n",
      "         1.0       0.00      0.27      0.00        74\n",
      "\n",
      "    accuracy                           0.74     39732\n",
      "   macro avg       0.50      0.50      0.43     39732\n",
      "weighted avg       1.00      0.74      0.85     39732\n",
      "\n"
     ]
    }
   ],
   "source": [
    "\n",
    "gb=GradientBoostingClassifier(learning_rate=0.5,loss='exponential',criterion='friedman_mse',random_state=1)\n",
    "model=gb.fit(new_x,new_y)\n",
    "pred=model.predict(xtest)\n",
    "print(classification_report(pred,ytest))\n"
   ]
  },
  {
   "cell_type": "code",
   "execution_count": 1088,
   "id": "b42a5de5",
   "metadata": {},
   "outputs": [
    {
     "name": "stdout",
     "output_type": "stream",
     "text": [
      "              precision    recall  f1-score   support\n",
      "\n",
      "         0.0       1.00      0.73      0.84     93405\n",
      "         1.0       0.63      1.00      0.77     42957\n",
      "\n",
      "    accuracy                           0.81    136362\n",
      "   macro avg       0.81      0.86      0.81    136362\n",
      "weighted avg       0.88      0.81      0.82    136362\n",
      "\n"
     ]
    }
   ],
   "source": [
    "pred=model.predict(new_x)\n",
    "print(classification_report(pred,new_y))\n"
   ]
  },
  {
   "cell_type": "code",
   "execution_count": 1097,
   "id": "6a4769e6",
   "metadata": {},
   "outputs": [],
   "source": [
    "pred=pd.Series(model.predict(test_new))\n",
    "test_pred=pd.concat([test['ID'],pred],axis=1)\n",
    "test_pred.index=test_new.index\n",
    "test_pred.rename({0:'Default'},axis=1,inplace=True)"
   ]
  },
  {
   "cell_type": "code",
   "execution_count": null,
   "id": "99618fc9",
   "metadata": {},
   "outputs": [],
   "source": []
  },
  {
   "cell_type": "code",
   "execution_count": 1098,
   "id": "391e22fc",
   "metadata": {},
   "outputs": [
    {
     "data": {
      "text/plain": [
       "1.0    41662\n",
       "0.0    15098\n",
       "Name: Default, dtype: int64"
      ]
     },
     "execution_count": 1098,
     "metadata": {},
     "output_type": "execute_result"
    }
   ],
   "source": [
    "test_pred['Default'].value_counts()"
   ]
  },
  {
   "cell_type": "code",
   "execution_count": 1099,
   "id": "d8c1d669",
   "metadata": {},
   "outputs": [],
   "source": [
    "test_pred.to_csv('submission3.csv',index=False)"
   ]
  },
  {
   "cell_type": "markdown",
   "id": "e70c81e9",
   "metadata": {},
   "source": [
    "## Model 3"
   ]
  },
  {
   "cell_type": "code",
   "execution_count": 1061,
   "id": "c6316d59",
   "metadata": {},
   "outputs": [],
   "source": [
    "from sklearn.model_selection import GridSearchCV,KFold\n",
    "param={'learning_rate':[0.05,0.07,0.1,0.3,0.4,0.5,0.6,0.7,0.8]}\n",
    "k=KFold(n_splits=3,shuffle=True,random_state=123)\n",
    "g=GridSearchCV(estimator=xg,param_grid=param,scoring='neg_log_loss',n_jobs=1,cv=k)\n",
    "mod=g.fit(new_x,new_y)\n",
    "print(mod.best_params_,mod.best_score_)"
   ]
  },
  {
   "cell_type": "code",
   "execution_count": null,
   "id": "f76ea47a",
   "metadata": {},
   "outputs": [],
   "source": [
    "from sklearn.model_selection import GridSearchCV,KFold\n",
    "param={'learning_rate':[0.05,0.07,0.1,0.3,0.4,0.5,0.6,0.7,0.8]}\n",
    "k=KFold(n_splits=3,shuffle=True,random_state=123)\n",
    "g=GridSearchCV(estimator=xg,param_grid=param,scoring='f1',n_jobs=1,cv=k)\n",
    "mod=g.fit(new_x,new_y)\n",
    "print(mod.best_params_,mod.best_score_)"
   ]
  },
  {
   "cell_type": "code",
   "execution_count": 1062,
   "id": "bee62d31",
   "metadata": {},
   "outputs": [
    {
     "name": "stdout",
     "output_type": "stream",
     "text": [
      "              precision    recall  f1-score   support\n",
      "\n",
      "           0       1.00      0.74      0.85     39726\n",
      "           1       0.00      0.33      0.00         6\n",
      "\n",
      "    accuracy                           0.74     39732\n",
      "   macro avg       0.50      0.53      0.42     39732\n",
      "weighted avg       1.00      0.74      0.85     39732\n",
      "\n"
     ]
    }
   ],
   "source": [
    "xg=XGBClassifier(learning_rate=0.1)\n",
    "model=xg.fit(new_x,new_y)\n",
    "pred=model.predict(xtest)\n",
    "print(classification_report(pred,ytest))\n"
   ]
  },
  {
   "cell_type": "code",
   "execution_count": 1063,
   "id": "e6c8e5fe",
   "metadata": {},
   "outputs": [
    {
     "name": "stdout",
     "output_type": "stream",
     "text": [
      "              precision    recall  f1-score   support\n",
      "\n",
      "           0       1.00      0.73      0.85     92999\n",
      "           1       0.64      1.00      0.78     43363\n",
      "\n",
      "    accuracy                           0.82    136362\n",
      "   macro avg       0.82      0.87      0.81    136362\n",
      "weighted avg       0.88      0.82      0.82    136362\n",
      "\n"
     ]
    }
   ],
   "source": [
    "pred=model.predict(new_x)\n",
    "print(classification_report(pred,new_y))"
   ]
  },
  {
   "cell_type": "code",
   "execution_count": 1064,
   "id": "a9cf51c3",
   "metadata": {},
   "outputs": [],
   "source": [
    "pred=pd.Series(model.predict(test_new))\n",
    "test_pred=pd.concat([test['ID'],pred],axis=1)\n",
    "test_pred.index=test_new.index\n",
    "test_pred.rename({0:'Default'},axis=1,inplace=True)"
   ]
  },
  {
   "cell_type": "code",
   "execution_count": 1065,
   "id": "edf1a39b",
   "metadata": {},
   "outputs": [
    {
     "data": {
      "text/plain": [
       "0    55792\n",
       "1      968\n",
       "Name: Default, dtype: int64"
      ]
     },
     "execution_count": 1065,
     "metadata": {},
     "output_type": "execute_result"
    }
   ],
   "source": [
    "test_pred['Default'].value_counts()"
   ]
  },
  {
   "cell_type": "code",
   "execution_count": 1066,
   "id": "1b900a12",
   "metadata": {},
   "outputs": [],
   "source": [
    "test_pred.to_csv('submission2.csv',index=False)"
   ]
  },
  {
   "cell_type": "code",
   "execution_count": 1067,
   "id": "4293cbf6",
   "metadata": {},
   "outputs": [
    {
     "name": "stdout",
     "output_type": "stream",
     "text": [
      "              precision    recall  f1-score   support\n",
      "\n",
      "         0.0       0.78      0.73      0.75     30887\n",
      "         1.0       0.22      0.26      0.24      8845\n",
      "\n",
      "    accuracy                           0.63     39732\n",
      "   macro avg       0.50      0.50      0.50     39732\n",
      "weighted avg       0.65      0.63      0.64     39732\n",
      "\n"
     ]
    }
   ],
   "source": [
    "from sklearn.ensemble import AdaBoostClassifier\n",
    "ad=AdaBoostClassifier(random_state=1)\n",
    "model=ad.fit(new_x,new_y)\n",
    "pred=model.predict(xtest)\n",
    "print(classification_report(pred,ytest))\n"
   ]
  },
  {
   "cell_type": "code",
   "execution_count": 1068,
   "id": "76a001e6",
   "metadata": {},
   "outputs": [
    {
     "data": {
      "text/plain": [
       "0.0    32223\n",
       "1.0    24537\n",
       "Name: Default, dtype: int64"
      ]
     },
     "execution_count": 1068,
     "metadata": {},
     "output_type": "execute_result"
    }
   ],
   "source": [
    "pred=pd.Series(model.predict(test_new))\n",
    "test_pred=pd.concat([test['ID'],pred],axis=1)\n",
    "test_pred.index=test_new.index\n",
    "test_pred.rename({0:'Default'},axis=1,inplace=True)\n",
    "test_pred['Default'].value_counts()"
   ]
  },
  {
   "cell_type": "code",
   "execution_count": 1069,
   "id": "af45c9f5",
   "metadata": {},
   "outputs": [],
   "source": [
    "test_pred.to_csv('submission4.csv',index=False)"
   ]
  },
  {
   "cell_type": "code",
   "execution_count": 1074,
   "id": "d6858471",
   "metadata": {},
   "outputs": [
    {
     "name": "stdout",
     "output_type": "stream",
     "text": [
      "{'learning_rate': 0.05, 'n_estimators': 11} -0.687093713148569\n"
     ]
    }
   ],
   "source": [
    "param={'n_estimators':range(10,41),'learning_rate':[0.05,0.07,0.1,0.3,0.4,0.5,0.6,0.7,0.8]}\n",
    "k=KFold(n_splits=3,shuffle=True,random_state=123)\n",
    "g=GridSearchCV(estimator=ad,param_grid=param,scoring='neg_log_loss',n_jobs=1,cv=k)\n",
    "mod=g.fit(new_x,new_y)\n",
    "print(mod.best_params_,mod.best_score_)"
   ]
  },
  {
   "cell_type": "code",
   "execution_count": 1075,
   "id": "415a86a3",
   "metadata": {},
   "outputs": [
    {
     "name": "stdout",
     "output_type": "stream",
     "text": [
      "              precision    recall  f1-score   support\n",
      "\n",
      "         0.0       0.42      0.74      0.54     16630\n",
      "         1.0       0.59      0.27      0.37     23102\n",
      "\n",
      "    accuracy                           0.47     39732\n",
      "   macro avg       0.51      0.51      0.46     39732\n",
      "weighted avg       0.52      0.47      0.44     39732\n",
      "\n"
     ]
    }
   ],
   "source": [
    "ad=AdaBoostClassifier(learning_rate=0.05,n_estimators=11,random_state=1)\n",
    "model=ad.fit(new_x,new_y)\n",
    "pred=model.predict(xtest)\n",
    "print(classification_report(pred,ytest))\n"
   ]
  },
  {
   "cell_type": "code",
   "execution_count": 1076,
   "id": "e873563c",
   "metadata": {},
   "outputs": [
    {
     "data": {
      "text/plain": [
       "1.0    41622\n",
       "0.0    15138\n",
       "Name: Default, dtype: int64"
      ]
     },
     "execution_count": 1076,
     "metadata": {},
     "output_type": "execute_result"
    }
   ],
   "source": [
    "pred=pd.Series(model.predict(test_new))\n",
    "test_pred=pd.concat([test['ID'],pred],axis=1)\n",
    "test_pred.index=test_new.index\n",
    "test_pred.rename({0:'Default'},axis=1,inplace=True)\n",
    "test_pred['Default'].value_counts()"
   ]
  },
  {
   "cell_type": "code",
   "execution_count": 1077,
   "id": "ebe6aea5",
   "metadata": {},
   "outputs": [],
   "source": [
    "test_pred.to_csv('submission4.csv',index=False)"
   ]
  }
 ],
 "metadata": {
  "kernelspec": {
   "display_name": "Python 3 (ipykernel)",
   "language": "python",
   "name": "python3"
  },
  "language_info": {
   "codemirror_mode": {
    "name": "ipython",
    "version": 3
   },
   "file_extension": ".py",
   "mimetype": "text/x-python",
   "name": "python",
   "nbconvert_exporter": "python",
   "pygments_lexer": "ipython3",
   "version": "3.9.7"
  }
 },
 "nbformat": 4,
 "nbformat_minor": 5
}
